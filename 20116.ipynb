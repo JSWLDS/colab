{
  "nbformat": 4,
  "nbformat_minor": 0,
  "metadata": {
    "colab": {
      "provenance": [],
      "authorship_tag": "ABX9TyPrASDod5GfMLkfbsda9w9K",
      "include_colab_link": true
    },
    "kernelspec": {
      "name": "python3",
      "display_name": "Python 3"
    },
    "language_info": {
      "name": "python"
    }
  },
  "cells": [
    {
      "cell_type": "markdown",
      "metadata": {
        "id": "view-in-github",
        "colab_type": "text"
      },
      "source": [
        "<a href=\"https://colab.research.google.com/github/JSWLDS/colab/blob/master/20116.ipynb\" target=\"_parent\"><img src=\"https://colab.research.google.com/assets/colab-badge.svg\" alt=\"Open In Colab\"/></a>"
      ]
    },
    {
      "cell_type": "code",
      "execution_count": null,
      "metadata": {
        "id": "vx1XF29jxzHZ",
        "colab": {
          "base_uri": "https://localhost:8080/"
        },
        "outputId": "15657677-8ef6-4909-9a27-78fb61df1111"
      },
      "outputs": [
        {
          "output_type": "stream",
          "name": "stdout",
          "text": [
            "남자입니다.\n"
          ]
        }
      ],
      "source": [
        "gender = \"남자\"\n",
        "if gender == \"남자\" :\n",
        "  print(\"남자입니다.\")\n",
        "elif gender == \"여자\" :\n",
        "  print(\"여자입니다.\")\n",
        "else :\n",
        "  print(\"논바이너리입니다.\")"
      ]
    },
    {
      "cell_type": "code",
      "source": [
        "\n",
        "def add(a, b) : \n",
        "  result = a + b\n",
        "  print(result)\n",
        "add(2, 3)\n"
      ],
      "metadata": {
        "colab": {
          "base_uri": "https://localhost:8080/"
        },
        "id": "nssz3AyRzBtY",
        "outputId": "457600dd-e7e5-4f38-cda6-88db406348ae"
      },
      "execution_count": null,
      "outputs": [
        {
          "output_type": "stream",
          "name": "stdout",
          "text": [
            "5\n"
          ]
        }
      ]
    },
    {
      "cell_type": "code",
      "source": [
        "a=23\n",
        "b=5\n",
        "div=int(a/b)\n",
        "print(\"변수 div는 {}입니다.\".format(div))"
      ],
      "metadata": {
        "colab": {
          "base_uri": "https://localhost:8080/"
        },
        "id": "mt0tNv4p0rtB",
        "outputId": "eb506cb0-224c-41fa-df8b-c1df2554ba26"
      },
      "execution_count": null,
      "outputs": [
        {
          "output_type": "stream",
          "name": "stdout",
          "text": [
            "변수 div는 4입니다.\n"
          ]
        }
      ]
    },
    {
      "cell_type": "code",
      "source": [
        "rainbow=[\"빨\",\"주\",\"노\",\"초\",\"파\",\"남\",\"보\"]\n",
        "for i, color in enumerate(rainbow) :\n",
        "  print(\"{}번째 색은 {}\".format(i+1, color))"
      ],
      "metadata": {
        "colab": {
          "base_uri": "https://localhost:8080/"
        },
        "id": "DrQVcQr61mKR",
        "outputId": "a4ee284b-f87d-4dc3-99f3-02a1ad7edb99"
      },
      "execution_count": null,
      "outputs": [
        {
          "output_type": "stream",
          "name": "stdout",
          "text": [
            "1번째 색은 빨\n",
            "2번째 색은 주\n",
            "3번째 색은 노\n",
            "4번째 색은 초\n",
            "5번째 색은 파\n",
            "6번째 색은 남\n",
            "7번째 색은 보\n"
          ]
        }
      ]
    },
    {
      "cell_type": "code",
      "source": [
        "days = [31,29,31,30,31,30,31,31,30,31,30,31]\n",
        "for i, day in enumerate(days) :\n",
        "  print(\"{}월의 날짜 수는 {}일 입니다.\".format(i+1, day))"
      ],
      "metadata": {
        "colab": {
          "base_uri": "https://localhost:8080/"
        },
        "id": "eSIGjbrC2x7U",
        "outputId": "96069f06-4ca3-4c53-bbaa-3fcf85f54fba"
      },
      "execution_count": null,
      "outputs": [
        {
          "output_type": "stream",
          "name": "stdout",
          "text": [
            "1월의 날짜 수는 31일 입니다.\n",
            "2월의 날짜 수는 29일 입니다.\n",
            "3월의 날짜 수는 31일 입니다.\n",
            "4월의 날짜 수는 30일 입니다.\n",
            "5월의 날짜 수는 31일 입니다.\n",
            "6월의 날짜 수는 30일 입니다.\n",
            "7월의 날짜 수는 31일 입니다.\n",
            "8월의 날짜 수는 31일 입니다.\n",
            "9월의 날짜 수는 30일 입니다.\n",
            "10월의 날짜 수는 31일 입니다.\n",
            "11월의 날짜 수는 30일 입니다.\n",
            "12월의 날짜 수는 31일 입니다.\n"
          ]
        }
      ]
    },
    {
      "cell_type": "code",
      "source": [
        "import random\n",
        "random_number = random.randrange(2, 5)\n",
        "print(random_number)"
      ],
      "metadata": {
        "colab": {
          "base_uri": "https://localhost:8080/"
        },
        "id": "JQ57Nm-73p8t",
        "outputId": "f8a5baee-2a92-4120-cc5f-7fe36fa07f33"
      },
      "execution_count": null,
      "outputs": [
        {
          "output_type": "stream",
          "name": "stdout",
          "text": [
            "2\n"
          ]
        }
      ]
    },
    {
      "cell_type": "code",
      "source": [
        "days_in_month = {\"1월\":31, \"2월\":28, \"3월\":31, \"4월\":30, \"5월\":31}\n",
        "for i, day in days_in_month.items() :\n",
        "\n",
        "  print(\"{}은 {}일이 있습니다.\".format(i, day))"
      ],
      "metadata": {
        "colab": {
          "base_uri": "https://localhost:8080/"
        },
        "id": "Qoq-2Ssf4EEP",
        "outputId": "b2a19ae0-3b40-4cb7-d91f-36df3649c980"
      },
      "execution_count": null,
      "outputs": [
        {
          "output_type": "stream",
          "name": "stdout",
          "text": [
            "1월은 31일이 있습니다.\n",
            "2월은 28일이 있습니다.\n",
            "3월은 31일이 있습니다.\n",
            "4월은 30일이 있습니다.\n",
            "5월은 31일이 있습니다.\n"
          ]
        }
      ]
    },
    {
      "cell_type": "code",
      "source": [
        "products = {\"풀\" : 800, \"색종이\": 1000}\n",
        "\n",
        "for title, price in products.items() :\n",
        "    print(\"{}의 가격: {}원\".format(title, price))"
      ],
      "metadata": {
        "colab": {
          "base_uri": "https://localhost:8080/"
        },
        "id": "hr-9kvyT46ca",
        "outputId": "48851d52-a071-4b61-e7d1-579aa59c132c"
      },
      "execution_count": null,
      "outputs": [
        {
          "output_type": "stream",
          "name": "stdout",
          "text": [
            "풀의 가격: 800원\n",
            "색종이의 가격: 1000원\n"
          ]
        }
      ]
    }
  ]
}