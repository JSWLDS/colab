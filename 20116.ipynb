{
  "nbformat": 4,
  "nbformat_minor": 0,
  "metadata": {
    "colab": {
      "provenance": [],
      "authorship_tag": "ABX9TyMU6eBnIHDvlBKl1LAIYaP8",
      "include_colab_link": true
    },
    "kernelspec": {
      "name": "python3",
      "display_name": "Python 3"
    },
    "language_info": {
      "name": "python"
    }
  },
  "cells": [
    {
      "cell_type": "markdown",
      "metadata": {
        "id": "view-in-github",
        "colab_type": "text"
      },
      "source": [
        "<a href=\"https://colab.research.google.com/github/JSWLDS/colab/blob/master/20116.ipynb\" target=\"_parent\"><img src=\"https://colab.research.google.com/assets/colab-badge.svg\" alt=\"Open In Colab\"/></a>"
      ]
    },
    {
      "cell_type": "code",
      "execution_count": null,
      "metadata": {
        "id": "vx1XF29jxzHZ",
        "colab": {
          "base_uri": "https://localhost:8080/"
        },
        "outputId": "15657677-8ef6-4909-9a27-78fb61df1111"
      },
      "outputs": [
        {
          "output_type": "stream",
          "name": "stdout",
          "text": [
            "남자입니다.\n"
          ]
        }
      ],
      "source": [
        "#1\n",
        "gender = \"남자\"\n",
        "if gender == \"남자\" :\n",
        "  print(\"남자입니다.\")\n",
        "elif gender == \"여자\" :\n",
        "  print(\"여자입니다.\")\n",
        "else :\n",
        "  print(\"논바이너리입니다.\")"
      ]
    },
    {
      "cell_type": "code",
      "source": [
        "#2\n",
        "def add(a, b) : \n",
        "  result = a + b\n",
        "  print(result)\n",
        "add(2, 3)\n"
      ],
      "metadata": {
        "colab": {
          "base_uri": "https://localhost:8080/"
        },
        "id": "nssz3AyRzBtY",
        "outputId": "457600dd-e7e5-4f38-cda6-88db406348ae"
      },
      "execution_count": null,
      "outputs": [
        {
          "output_type": "stream",
          "name": "stdout",
          "text": [
            "5\n"
          ]
        }
      ]
    },
    {
      "cell_type": "code",
      "source": [
        "#3\n",
        "a=23\n",
        "b=5\n",
        "div=int(a/b)\n",
        "print(\"변수 div는 {}입니다.\".format(div))"
      ],
      "metadata": {
        "colab": {
          "base_uri": "https://localhost:8080/"
        },
        "id": "mt0tNv4p0rtB",
        "outputId": "eb506cb0-224c-41fa-df8b-c1df2554ba26"
      },
      "execution_count": null,
      "outputs": [
        {
          "output_type": "stream",
          "name": "stdout",
          "text": [
            "변수 div는 4입니다.\n"
          ]
        }
      ]
    },
    {
      "cell_type": "code",
      "source": [
        "#4\n",
        "rainbow=[\"빨\",\"주\",\"노\",\"초\",\"파\",\"남\",\"보\"]\n",
        "for i, color in enumerate(rainbow) :\n",
        "  print(\"{}번째 색은 {}\".format(i+1, color))"
      ],
      "metadata": {
        "colab": {
          "base_uri": "https://localhost:8080/"
        },
        "id": "DrQVcQr61mKR",
        "outputId": "a4ee284b-f87d-4dc3-99f3-02a1ad7edb99"
      },
      "execution_count": null,
      "outputs": [
        {
          "output_type": "stream",
          "name": "stdout",
          "text": [
            "1번째 색은 빨\n",
            "2번째 색은 주\n",
            "3번째 색은 노\n",
            "4번째 색은 초\n",
            "5번째 색은 파\n",
            "6번째 색은 남\n",
            "7번째 색은 보\n"
          ]
        }
      ]
    },
    {
      "cell_type": "code",
      "source": [
        "#5\n",
        "days = [31,29,31,30,31,30,31,31,30,31,30,31]\n",
        "for i, day in enumerate(days) :\n",
        "  print(\"{}월의 날짜 수는 {}일 입니다.\".format(i+1, day))"
      ],
      "metadata": {
        "colab": {
          "base_uri": "https://localhost:8080/"
        },
        "id": "eSIGjbrC2x7U",
        "outputId": "96069f06-4ca3-4c53-bbaa-3fcf85f54fba"
      },
      "execution_count": null,
      "outputs": [
        {
          "output_type": "stream",
          "name": "stdout",
          "text": [
            "1월의 날짜 수는 31일 입니다.\n",
            "2월의 날짜 수는 29일 입니다.\n",
            "3월의 날짜 수는 31일 입니다.\n",
            "4월의 날짜 수는 30일 입니다.\n",
            "5월의 날짜 수는 31일 입니다.\n",
            "6월의 날짜 수는 30일 입니다.\n",
            "7월의 날짜 수는 31일 입니다.\n",
            "8월의 날짜 수는 31일 입니다.\n",
            "9월의 날짜 수는 30일 입니다.\n",
            "10월의 날짜 수는 31일 입니다.\n",
            "11월의 날짜 수는 30일 입니다.\n",
            "12월의 날짜 수는 31일 입니다.\n"
          ]
        }
      ]
    },
    {
      "cell_type": "code",
      "source": [
        "#6\n",
        "import random\n",
        "random_number = random.randrange(2, 5)\n",
        "print(random_number)"
      ],
      "metadata": {
        "colab": {
          "base_uri": "https://localhost:8080/"
        },
        "id": "JQ57Nm-73p8t",
        "outputId": "f8a5baee-2a92-4120-cc5f-7fe36fa07f33"
      },
      "execution_count": null,
      "outputs": [
        {
          "output_type": "stream",
          "name": "stdout",
          "text": [
            "2\n"
          ]
        }
      ]
    },
    {
      "cell_type": "code",
      "source": [
        "#7\n",
        "days_in_month = {\"1월\":31, \"2월\":28, \"3월\":31, \"4월\":30, \"5월\":31}\n",
        "for i, day in days_in_month.items() :\n",
        "\n",
        "  print(\"{}은 {}일이 있습니다.\".format(i, day))"
      ],
      "metadata": {
        "colab": {
          "base_uri": "https://localhost:8080/"
        },
        "id": "Qoq-2Ssf4EEP",
        "outputId": "b2a19ae0-3b40-4cb7-d91f-36df3649c980"
      },
      "execution_count": null,
      "outputs": [
        {
          "output_type": "stream",
          "name": "stdout",
          "text": [
            "1월은 31일이 있습니다.\n",
            "2월은 28일이 있습니다.\n",
            "3월은 31일이 있습니다.\n",
            "4월은 30일이 있습니다.\n",
            "5월은 31일이 있습니다.\n"
          ]
        }
      ]
    },
    {
      "cell_type": "code",
      "source": [
        "#8\n",
        "products = {\"풀\" : 800, \"색종이\": 1000}\n",
        "\n",
        "for title, price in products.items() :\n",
        "    print(\"{}의 가격: {}원\".format(title, price))"
      ],
      "metadata": {
        "colab": {
          "base_uri": "https://localhost:8080/"
        },
        "id": "hr-9kvyT46ca",
        "outputId": "48851d52-a071-4b61-e7d1-579aa59c132c"
      },
      "execution_count": null,
      "outputs": [
        {
          "output_type": "stream",
          "name": "stdout",
          "text": [
            "풀의 가격: 800원\n",
            "색종이의 가격: 1000원\n"
          ]
        }
      ]
    },
    {
      "cell_type": "code",
      "source": [
        "#9\n",
        "shops = {\n",
        "    \"송일문방구\": {\"가위\": 500, \"크레파스\": 3000},\n",
        "    \"알파문구\": {\"풀\": 800, \"도화지\": 300, \"A4용지\": 8000},\n",
        "    \"다이소\": {\"풀\": 500, \"목공본드\": 2000, \"화분\": 3000}\n",
        "}\n",
        "\n",
        "for shop, products in shops.items():\n",
        "  try :\n",
        "    for product, price in products.items():\n",
        "        if product =='풀':\n",
        "            print(\"{}: {}원\".format(shop, price))\n",
        "            raise StopIteration\n",
        "  except :\n",
        "    break"
      ],
      "metadata": {
        "colab": {
          "base_uri": "https://localhost:8080/"
        },
        "id": "ux9iVKKBVvfN",
        "outputId": "9168dc7d-9f47-4ab9-c3bb-a4d666149f2c"
      },
      "execution_count": 42,
      "outputs": [
        {
          "output_type": "stream",
          "name": "stdout",
          "text": [
            "알파문구: 800원\n"
          ]
        }
      ]
    },
    {
      "cell_type": "code",
      "source": [
        "#10\n",
        "str = \"오늘은 날씨가 흐림\"\n",
        "\n",
        "# split()을 이용해서 str을 공백으로 나눈 문자열을 words에 저장하세요\n",
        "words = str.split(\" \")                                 \n",
        "\n",
        "# index()를 이용해서 \"흐림\"이 words의 몇번째에 있는지 찾고, \n",
        "# position에 저장하세요.\n",
        "position = words.index(\"흐림\")                                      \n",
        "words[position] = \"맑음\"\n",
        "\n",
        "# join()을 이용해서 words를 다시 문자열로 바꿔 new_str에 저장하세요. \n",
        "# words를 문자열로 바꿀때는 공백 한 칸을 기준으로 붙이면 됩니다.\n",
        "new_str =\" \".join(words)   \n",
        "print(new_str)"
      ],
      "metadata": {
        "colab": {
          "base_uri": "https://localhost:8080/"
        },
        "id": "OAMVXkiya8NW",
        "outputId": "bfa724c1-f39c-48ff-ce4e-06062fc4b714"
      },
      "execution_count": 47,
      "outputs": [
        {
          "output_type": "stream",
          "name": "stdout",
          "text": [
            "오늘은 날씨가 맑음\n"
          ]
        }
      ]
    },
    {
      "cell_type": "code",
      "source": [
        "#11\n",
        "list1 = list(range(20))\n",
        "\n",
        "# new_list가 5, 8, 11, 14의 값을 가지도록 list1을 slice하세요\n",
        "new_list = list1[5:15:3] \n",
        "print(new_list)\n",
        "\n",
        "# reverse_list가 17, 13, 9, 5의 값을 가지도록 list1을 slice하세요\n",
        "reverse_list = list1[-3:-16:-4]                          \n",
        "print(reverse_list)"
      ],
      "metadata": {
        "colab": {
          "base_uri": "https://localhost:8080/"
        },
        "id": "AicxXO_TdIr9",
        "outputId": "3c3c6400-80b5-4cbe-d65a-266ad359a81c"
      },
      "execution_count": 54,
      "outputs": [
        {
          "output_type": "stream",
          "name": "stdout",
          "text": [
            "[5, 8, 11, 14]\n",
            "[17, 13, 9, 5]\n"
          ]
        }
      ]
    },
    {
      "cell_type": "code",
      "source": [
        "#12\n",
        "class Human():\n",
        "    \n",
        "    def __init__(self, name, weight):\n",
        "        self.name = name\n",
        "        self.weight = weight\n",
        "    \n",
        "    def __str__(self):\n",
        "        return \"{} (몸무게 {}kg)\".format(self.name, self.weight)\n",
        "    \n",
        "    def eat(self):\n",
        "        self.weight += 0.1\n",
        "        print(\"{}가 먹어서 {}kg이 되었습니다.\".format(self.name, self.weight))\n",
        "    \n",
        "    def walk(self):\n",
        "        self.weight -= 0.1\n",
        "        print(\"{}가 걸어서 {}kg이 되었습니다.\".format(self.name, self.weight))\n",
        "\n",
        "# 아래에서 person을 이름과 몸무게를 가지는 Human클래스의 인스턴스로 만들어보세요.\n",
        "person = Human(\"정서원\", 60)\n",
        "person.walk()\n",
        "person.walk()\n",
        "person.eat()\n",
        "\n",
        "print(person)"
      ],
      "metadata": {
        "colab": {
          "base_uri": "https://localhost:8080/"
        },
        "id": "rezALnIOetAH",
        "outputId": "45f37dbf-c151-417e-80f0-c608f2398219"
      },
      "execution_count": 58,
      "outputs": [
        {
          "output_type": "stream",
          "name": "stdout",
          "text": [
            "정서원가 걸어서 59.9kg이 되었습니다.\n",
            "정서원가 걸어서 59.8kg이 되었습니다.\n",
            "정서원가 먹어서 59.9kg이 되었습니다.\n",
            "정서원 (몸무게 59.9kg)\n"
          ]
        }
      ]
    },
    {
      "cell_type": "code",
      "source": [
        "#13\n",
        "class Car():    \n",
        "    def run(self):\n",
        "        print(\"차가 달립니다.\")\n",
        "class Truck(Car):    \n",
        "    def load(self):\n",
        "        print(\"짐을 실었습니다.\")\n",
        "    # 이 아래에서 run 메소드를 오버라이드 하세요.\n",
        "    def run(self):\n",
        "      print(\"트럭이 달립니다.\")\n",
        "truck = Truck()\n",
        "truck.run()"
      ],
      "metadata": {
        "colab": {
          "base_uri": "https://localhost:8080/"
        },
        "id": "yzGwQXjBhRAZ",
        "outputId": "e3d62915-0efc-4db4-a6ce-aed458e95667"
      },
      "execution_count": 68,
      "outputs": [
        {
          "output_type": "stream",
          "name": "stdout",
          "text": [
            "트럭이 달립니다.\n"
          ]
        }
      ]
    },
    {
      "cell_type": "code",
      "source": [
        "#14\n",
        "class Car():\n",
        "    \n",
        "    def __init__(self, name):\n",
        "        self.name = name\n",
        "    \n",
        "    def run(self):\n",
        "        print(\"차가 달립니다.\")\n",
        "\n",
        "\n",
        "class Truck(Car):\n",
        "    # 이 아래에서 __init__ 메소드를 오버라이드 하세요.\n",
        "    def __init__(self, name, capacity):\n",
        "        super().__init__( name )\n",
        "        self.capacity = capacity\n",
        "        \n",
        "    def load(self):\n",
        "        print(\"짐을 실었습니다.\")        "
      ],
      "metadata": {
        "id": "DKFcfryDhlZJ"
      },
      "execution_count": 72,
      "outputs": []
    },
    {
      "cell_type": "code",
      "source": [
        "#15\n",
        "product_list = [\"풀\", \"가위\", \"크래파스\"]\n",
        "price_list = [800, 2500, 5000]\n",
        "product_dict = {x : y for x, y in zip(product_list, price_list)}\n",
        "\n",
        "\n",
        "print(product_dict)"
      ],
      "metadata": {
        "colab": {
          "base_uri": "https://localhost:8080/"
        },
        "id": "CTxW8S2jlGCU",
        "outputId": "62b3ad2b-e96f-4e60-e879-c65254fc7054"
      },
      "execution_count": 77,
      "outputs": [
        {
          "output_type": "stream",
          "name": "stdout",
          "text": [
            "{'풀': 800, '가위': 2500, '크래파스': 5000}\n"
          ]
        }
      ]
    },
    {
      "cell_type": "code",
      "source": [],
      "metadata": {
        "id": "ocz3umGpoOEq"
      },
      "execution_count": null,
      "outputs": []
    }
  ]
}